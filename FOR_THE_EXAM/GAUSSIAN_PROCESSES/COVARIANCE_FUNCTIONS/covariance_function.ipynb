{
 "cells": [
  {
   "cell_type": "code",
   "execution_count": 18,
   "id": "3488cc3a",
   "metadata": {},
   "outputs": [],
   "source": [
    "import numpy as np\n",
    "import matplotlib.pyplot as plt\n",
    "from utils import * "
   ]
  },
  {
   "cell_type": "code",
   "execution_count": 19,
   "id": "77feeddc",
   "metadata": {},
   "outputs": [],
   "source": [
    "import numpy as np\n",
    "\n",
    "def squared_exponential_kernel_new(X1, X2, length_scale=1.0, variance=1.0, debug=False):\n",
    "    \"\"\"\n",
    "    Computes a “squared exponential style” kernel (here using an L₁ based form) plus a linear term.\n",
    "    \n",
    "    Parameters\n",
    "    ----------\n",
    "    X1 : np.ndarray, shape (n1, d)\n",
    "        First batch of points (n1 points in d dimensions).\n",
    "    X2 : np.ndarray, shape (n2, d)\n",
    "        Second batch of points (n2 points in d dimensions).\n",
    "    length_scale : float\n",
    "        Lengthscale parameter ell > 0 (default 1.0).\n",
    "    variance : float\n",
    "        Variance (amplitude) parameter σ² (default 1.0).  Currently not used in your return statement,\n",
    "        but you could multiply the whole kernel by this if desired.\n",
    "    \n",
    "    Returns\n",
    "    -------\n",
    "    K : np.ndarray, shape (n1, n2)\n",
    "        Kernel matrix where\n",
    "          K[i,j] = 1 * (1 + (‖X1[i] − X2[j]‖₁ / (2 ℓ²)))⁻¹  +  X1[i] · X2[j]\n",
    "    \"\"\"\n",
    "    # ensure length_scale is positive and nonzero\n",
    "    l = np.abs(length_scale) + 1e-12\n",
    "    \n",
    "\n",
    "    \n",
    "    # 2) Compute pairwise differences via broadcasting:\n",
    "    #    diff[i,j,k] = X1[i,k] - X2[j,k]\n",
    "    #    shape of diff: (n1, n2, d)\n",
    "    diff = X1[:, None, :] - X2[None, :, :]\n",
    "    \n",
    "    # 3) Sum absolute differences over the last axis to get L1 distance:\n",
    "    #    sqdist[i,j] = sum_k |diff[i,j,k]|\n",
    "    #    shape of sqdist: (n1, n2)*\n",
    "    sqdist = np.sum(np.abs(diff), axis=2)\n",
    "    \n",
    "    # 4) Compute the kernel:\n",
    "    #    A) “Squared‐exponential–style” term (but using L1 distance here):\n",
    "    #         (1 + sqdist / (2 ℓ²))⁻¹\n",
    "    #    B) Plus a linear term X1·X2ᵀ\n",
    "    #    Final shape: (n1, n2)\n",
    "    \n",
    "    \n",
    "    if debug:\n",
    "        print(\"*\" * 50)\n",
    "        print(\"Debugging information:\")\n",
    "        \n",
    "        print(\"Length scale (l):\", l)\n",
    "        # 1) Print shapes for debugging\n",
    "        #   X1 shape: (n1, d)\n",
    "        print(\"X1 shape before:\", X1.shape)\n",
    "        #   After adding a new axis: (n1, 1, d)\n",
    "        print(\"X1[:, None, :] shape:\", X1[:, None, :].shape)\n",
    "        #   X2 shape: (n2, d)\n",
    "        print(\"X2 shape before:\", X2.shape)\n",
    "        #   After adding a new axis: (1, n2, d)\n",
    "        print(\"X2[None, :, :] shape:\", X2[None, :, :].shape)\n",
    "        #  diff shape: (n1, n2, d)\n",
    "        print(\"diff shape:\", diff.shape)\n",
    "        #  sqdist shape: (n1, n2)\n",
    "        print(\"sqdist shape:\", sqdist.shape)\n",
    "        #  K shape: (n1, n2)\n",
    "        print(\"K shape:\", (1 * (1 + (sqdist / (2 * l**2)))**(-1) + X1 @ X2.T).shape)\n",
    "        print(\"*\" * 50)\n",
    "        print(\"*\" * 50)\n",
    "    \n",
    "    return 1 * (1 + (sqdist / (2 * l**2)))**(-1) + X1 @ X2.T\n",
    "\n",
    "\n",
    "# Lambda‐style equivalent\n",
    "squared_exponential_kernel_lambda = lambda X1, X2, length_scale=1.0, variance=1.0: (\n",
    "    1 * (1 + (np.sum(\n",
    "        np.abs(X1[:, None, :] - X2[None, :, :]), \n",
    "        axis=2\n",
    "    ) / (2 * length_scale**2)))**(-1) \n",
    "    + X1 @ X2.T\n",
    ")\n"
   ]
  },
  {
   "cell_type": "code",
   "execution_count": 25,
   "id": "3a6f6edf",
   "metadata": {},
   "outputs": [
    {
     "name": "stdout",
     "output_type": "stream",
     "text": [
      "**************************************************\n",
      "X1 shape: (8, 1)\n",
      "X1: [[-2.17  1.99  0.57 -3.01 -1.16  3.3  -4.85 -0.86]]\n",
      "X2 shape: (1, 1)\n",
      "X2: [[-1]]\n",
      "**************************************************\n"
     ]
    },
    {
     "data": {
      "text/html": [
       "<pre style=\"white-space:pre;overflow-x:auto;line-height:normal;font-family:Menlo,'DejaVu Sans Mono',consolas,'Courier New',monospace\"><span style=\"color: #d7875f; text-decoration-color: #d7875f\">Squared exponential kernel </span><span style=\"color: #d7875f; text-decoration-color: #d7875f\">K</span><span style=\"color: #d7875f; text-decoration-color: #d7875f\">= </span>\n",
       "<span style=\"color: #d7875f; text-decoration-color: #d7875f; font-weight: bold\">[[</span><span style=\"color: #d7875f; text-decoration-color: #d7875f\"> </span><span style=\"color: #d7875f; text-decoration-color: #d7875f; font-weight: bold\">2.63</span><span style=\"color: #d7875f; text-decoration-color: #d7875f\"> </span><span style=\"color: #d7875f; text-decoration-color: #d7875f; font-weight: bold\">-1.74</span><span style=\"color: #d7875f; text-decoration-color: #d7875f\"> </span><span style=\"color: #d7875f; text-decoration-color: #d7875f; font-weight: bold\">-0.18</span><span style=\"color: #d7875f; text-decoration-color: #d7875f\">  </span><span style=\"color: #d7875f; text-decoration-color: #d7875f; font-weight: bold\">3.34</span><span style=\"color: #d7875f; text-decoration-color: #d7875f\">  </span><span style=\"color: #d7875f; text-decoration-color: #d7875f; font-weight: bold\">2.02</span><span style=\"color: #d7875f; text-decoration-color: #d7875f\"> </span><span style=\"color: #d7875f; text-decoration-color: #d7875f; font-weight: bold\">-3.11</span><span style=\"color: #d7875f; text-decoration-color: #d7875f\">  </span><span style=\"color: #d7875f; text-decoration-color: #d7875f; font-weight: bold\">5.06</span><span style=\"color: #d7875f; text-decoration-color: #d7875f\">  </span><span style=\"color: #d7875f; text-decoration-color: #d7875f; font-weight: bold\">1.74</span><span style=\"color: #d7875f; text-decoration-color: #d7875f; font-weight: bold\">]]</span>\n",
       "</pre>\n"
      ],
      "text/plain": [
       "\u001b[38;5;173mSquared exponential kernel \u001b[0m\u001b[38;5;173mK\u001b[0m\u001b[38;5;173m= \u001b[0m\n",
       "\u001b[1;38;5;173m[\u001b[0m\u001b[1;38;5;173m[\u001b[0m\u001b[38;5;173m \u001b[0m\u001b[1;38;5;173m2.63\u001b[0m\u001b[38;5;173m \u001b[0m\u001b[1;38;5;173m-1.74\u001b[0m\u001b[38;5;173m \u001b[0m\u001b[1;38;5;173m-0.18\u001b[0m\u001b[38;5;173m  \u001b[0m\u001b[1;38;5;173m3.34\u001b[0m\u001b[38;5;173m  \u001b[0m\u001b[1;38;5;173m2.02\u001b[0m\u001b[38;5;173m \u001b[0m\u001b[1;38;5;173m-3.11\u001b[0m\u001b[38;5;173m  \u001b[0m\u001b[1;38;5;173m5.06\u001b[0m\u001b[38;5;173m  \u001b[0m\u001b[1;38;5;173m1.74\u001b[0m\u001b[1;38;5;173m]\u001b[0m\u001b[1;38;5;173m]\u001b[0m\n"
      ]
     },
     "metadata": {},
     "output_type": "display_data"
    },
    {
     "name": "stdout",
     "output_type": "stream",
     "text": [
      "**************************************************\n",
      "K shape: (8, 1)\n",
      "K: [[ 2.63082949 -1.73937343 -0.18089494  3.34222591  2.02206897 -3.11132075\n",
      "   5.05618557  1.73719298]]\n",
      "**************************************************\n"
     ]
    },
    {
     "data": {
      "image/png": "[encoded data removed]",
      "text/plain": [
       "<Figure size 640x480 with 2 Axes>"
      ]
     },
     "metadata": {},
     "output_type": "display_data"
    }
   ],
   "source": [
    "X1 = np.array([[-2.17], [1.99], [0.57], [-3.01], [-1.16], [3.30], [-4.85], [-0.86]])\n",
    "X2 = np.array([[-1]])\n",
    "s(50)\n",
    "print(\"X1 shape:\", X1.shape)\n",
    "print(\"X1:\", X1.T)\n",
    "print(\"X2 shape:\", X2.shape)\n",
    "print(\"X2:\", X2.T)\n",
    "s(50)\n",
    "\n",
    "\n",
    "length_scale = 1.0 / np.sqrt(2)  # Length scale for the kernel\n",
    "\n",
    "K = squared_exponential_kernel_new(X1, X2, length_scale)\n",
    "\n",
    "\n",
    "rlabel(f\"Squared exponential kernel K= \\n{np.array2string(K.T, precision=2)}\")\n",
    "\n",
    "s(50)\n",
    "print(\"K shape:\", K.shape)\n",
    "print(\"K:\", K.T)\n",
    "s(50)\n",
    "\n",
    "\n",
    "# plot K as a heatmap\n",
    "plt.imshow(K, cmap='viridis', interpolation='nearest')\n",
    "plt.colorbar(label='Kernel value')\n",
    "plt.title('Squared Exponential Kernel Heatmap')\n",
    "plt.xlabel('X2 points')\n",
    "plt.ylabel('X1 points')\n",
    "plt.show()"
   ]
  },
  {
   "cell_type": "code",
   "execution_count": null,
   "id": "6a1065b9",
   "metadata": {},
   "outputs": [],
   "source": []
  },
  {
   "cell_type": "code",
   "execution_count": 21,
   "id": "2ac1718d",
   "metadata": {},
   "outputs": [],
   "source": [
    "X3 = np.array([[1, 2], \n",
    "               [3, 4]])\n",
    "\n",
    "X4 = np.array([[5, 6], \n",
    "               [7, 8]])\n",
    "\n",
    "\n",
    "K_ = squared_exponential_kernel_new(X3, X4, length_scale=1.0)"
   ]
  },
  {
   "cell_type": "code",
   "execution_count": null,
   "id": "dc49619e",
   "metadata": {},
   "outputs": [
    {
     "name": "stdout",
     "output_type": "stream",
     "text": [
      "X3 shape: (2, 2)\n",
      "X3: [[1 3]\n",
      " [2 4]]\n",
      "X4 shape: (2, 2)\n",
      "X4: [[5 7]\n",
      " [6 8]]\n",
      "**************************************************\n"
     ]
    },
    {
     "ename": "TypeError",
     "evalue": "unsupported format string passed to numpy.ndarray.__format__",
     "output_type": "error",
     "traceback": [
      "\u001b[1;31m---------------------------------------------------------------------------\u001b[0m",
      "\u001b[1;31mTypeError\u001b[0m                                 Traceback (most recent call last)",
      "Cell \u001b[1;32mIn[22], line 7\u001b[0m\n\u001b[0;32m      4\u001b[0m \u001b[38;5;28mprint\u001b[39m(\u001b[38;5;124m\"\u001b[39m\u001b[38;5;124mX4:\u001b[39m\u001b[38;5;124m\"\u001b[39m, X4\u001b[38;5;241m.\u001b[39mT)\n\u001b[0;32m      5\u001b[0m s(\u001b[38;5;241m50\u001b[39m)\n\u001b[1;32m----> 7\u001b[0m rlabel(\u001b[38;5;124mf\u001b[39m\u001b[38;5;124m\"\u001b[39m\u001b[38;5;124mSquared exponential kernel K= \u001b[39m\u001b[38;5;130;01m\\n\u001b[39;00m\u001b[38;5;132;01m{\u001b[39;00mK_\u001b[38;5;241m.\u001b[39mT\u001b[38;5;132;01m:\u001b[39;00m\u001b[38;5;124m.2f\u001b[39m\u001b[38;5;132;01m}\u001b[39;00m\u001b[38;5;124m\"\u001b[39m)\n\u001b[0;32m      8\u001b[0m s(\u001b[38;5;241m50\u001b[39m)\n\u001b[0;32m      9\u001b[0m \u001b[38;5;28mprint\u001b[39m(\u001b[38;5;124m\"\u001b[39m\u001b[38;5;124mK shape:\u001b[39m\u001b[38;5;124m\"\u001b[39m, K_\u001b[38;5;241m.\u001b[39mshape)\n",
      "\u001b[1;31mTypeError\u001b[0m: unsupported format string passed to numpy.ndarray.__format__"
     ]
    }
   ],
   "source": [
    "print(\"X3 shape:\", X3.shape)\n",
    "print(\"X3:\", X3.T)\n",
    "print(\"X4 shape:\", X4.shape)\n",
    "print(\"X4:\", X4.T)\n",
    "s(50)\n",
    "\n",
    "rlabel(f\"Squared exponential kernel K= \\n{K_.T}\")\n",
    "s(50)\n",
    "print(\"K shape:\", K_.shape)\n",
    "print(\"K:\", K_.T)"
   ]
  }
 ],
 "metadata": {
  "kernelspec": {
   "display_name": "02477_Bayes",
   "language": "python",
   "name": "python3"
  },
  "language_info": {
   "codemirror_mode": {
    "name": "ipython",
    "version": 3
   },
   "file_extension": ".py",
   "mimetype": "text/x-python",
   "name": "python",
   "nbconvert_exporter": "python",
   "pygments_lexer": "ipython3",
   "version": "3.11.11"
  }
 },
 "nbformat": 4,
 "nbformat_minor": 5
}
