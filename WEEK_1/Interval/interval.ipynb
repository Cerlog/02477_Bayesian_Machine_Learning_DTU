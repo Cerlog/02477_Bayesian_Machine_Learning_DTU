{
 "cells": [
  {
   "cell_type": "code",
   "execution_count": 3,
   "id": "c80f03b6",
   "metadata": {},
   "outputs": [
    {
     "name": "stdout",
     "output_type": "stream",
     "text": [
      "90% Credibility Interval: [0.5628, 0.9294]\n",
      "95% Credibility Interval: [0.5211, 0.9459]\n"
     ]
    }
   ],
   "source": [
    "import jax.numpy as jnp\n",
    "from jax import random\n",
    "\n",
    "def jax_credibility_interval(data=None, dist_func=None, credibility_level=0.90, key=None):\n",
    "    \"\"\"\n",
    "    Calculate a central credibility interval based on percentiles using JAX.\n",
    "    \n",
    "    Parameters:\n",
    "    -----------\n",
    "    data : jnp.array, optional\n",
    "        Samples from the posterior distribution\n",
    "    dist_func : callable, optional\n",
    "        Function that generates samples when called with a key and size\n",
    "    credibility_level : float, default=0.90\n",
    "        The desired credibility level (between 0 and 1)\n",
    "    key : jax.random.PRNGKey, optional\n",
    "        Random key for JAX's random number generation\n",
    "    \n",
    "    Returns:\n",
    "    --------\n",
    "    tuple\n",
    "        (lower_bound, upper_bound) representing the credibility interval\n",
    "    \"\"\"\n",
    "    if data is None and dist_func is None:\n",
    "        raise ValueError(\"Either data or dist_func must be provided\")\n",
    "    \n",
    "    # If no data is provided but we have a distribution function, generate samples\n",
    "    if data is None:\n",
    "        if key is None:\n",
    "            key = random.PRNGKey(0)\n",
    "        data = dist_func(key, 10000)\n",
    "    \n",
    "    # Calculate the percentiles based on the credibility level\n",
    "    alpha = (1 - credibility_level) / 2\n",
    "    \n",
    "    # Sort the data for percentile calculation\n",
    "    sorted_data = jnp.sort(data)\n",
    "    n = len(sorted_data)\n",
    "    \n",
    "    # Calculate indices for the percentiles\n",
    "    lower_idx = jnp.floor(n * alpha).astype(int)\n",
    "    upper_idx = jnp.floor(n * (1 - alpha)).astype(int)\n",
    "    \n",
    "    # Get the values at those indices\n",
    "    lower_bound = sorted_data[lower_idx]\n",
    "    upper_bound = sorted_data[upper_idx]\n",
    "    \n",
    "    return lower_bound, upper_bound\n",
    "\n",
    "# Example usage:\n",
    "# (This would be replaced with your actual code)\n",
    "def example_usage():\n",
    "    # Initialize a random key\n",
    "    key = random.PRNGKey(42)\n",
    "    \n",
    "    # Example 1: Using pre-computed data\n",
    "    from jax.random import beta\n",
    "    samples = beta(key, a=10.0, b=3.0, shape=(10000,))\n",
    "    lower, upper = jax_credibility_interval(data=samples, credibility_level=0.90)\n",
    "    print(f\"90% Credibility Interval: [{lower:.4f}, {upper:.4f}]\")\n",
    "    \n",
    "    # Example 2: Using a distribution function\n",
    "    def beta_sampler(key, size):\n",
    "        return beta(key, a=10.0, b=3.0, shape=(size,))\n",
    "    \n",
    "    new_key = random.split(key)[0]\n",
    "    lower, upper = jax_credibility_interval(\n",
    "        dist_func=beta_sampler, \n",
    "        credibility_level=0.95,\n",
    "        key=new_key\n",
    "    )\n",
    "    print(f\"95% Credibility Interval: [{lower:.4f}, {upper:.4f}]\")\n",
    "\n",
    "# This shows the function signature and example usage\n",
    "\n",
    "\n",
    "example_usage(  )"
   ]
  },
  {
   "cell_type": "code",
   "execution_count": null,
   "id": "84993afb",
   "metadata": {},
   "outputs": [],
   "source": []
  }
 ],
 "metadata": {
  "kernelspec": {
   "display_name": "02477_Bayes",
   "language": "python",
   "name": "python3"
  },
  "language_info": {
   "codemirror_mode": {
    "name": "ipython",
    "version": 3
   },
   "file_extension": ".py",
   "mimetype": "text/x-python",
   "name": "python",
   "nbconvert_exporter": "python",
   "pygments_lexer": "ipython3",
   "version": "3.11.11"
  }
 },
 "nbformat": 4,
 "nbformat_minor": 5
}
