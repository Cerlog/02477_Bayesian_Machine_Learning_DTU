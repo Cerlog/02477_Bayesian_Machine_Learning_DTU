{
 "cells": [
  {
   "cell_type": "code",
   "execution_count": null,
   "id": "063d0b04",
   "metadata": {},
   "outputs": [],
   "source": [
    "\n",
    "import numpy as np\n",
    "import matplotlib.pyplot as plt\n",
    "# If you need to import from a local utils.py, uncomment and adjust the following lines:\n",
    "import sys\n",
    "import os\n",
    "import jax.numpy as jnp\n",
    "# Construct the full path to the folder\n",
    "folder_path = r'C:\\Users\\Petrb\\Desktop\\DTU\\3rdSemester\\02477_BAYESIAN_MACHINE_LEARNING'\n",
    "\n",
    "# Add the folder to the Python path\n",
    "sys.path.append(folder_path)\n",
    "\n",
    "# Now you can import the utils module\n",
    "from utils import *\n"
   ]
  },
  {
   "cell_type": "code",
   "execution_count": 5,
   "id": "bc7c4272",
   "metadata": {},
   "outputs": [
    {
     "name": "stdout",
     "output_type": "stream",
     "text": [
      "Entropy of two Gaussians with variances 1.0 and 1.0 is: 2.8379\n"
     ]
    }
   ],
   "source": [
    "v1 = 1.0 \n",
    "v2 = 1.0\n",
    "\n",
    "def entropy_of_gaussians(v1, v2):\n",
    "    return 0.5 * jnp.log(2 * jnp.pi * jnp.e * v1 ) +  0.5 * jnp.log(2 * jnp.pi * jnp.e * v2)\n",
    "\n",
    "entropy = entropy_of_gaussians(v1, v2)\n",
    "print(f\"Entropy of two Gaussians with variances {v1} and {v2} is: {entropy:.4f}\")"
   ]
  }
 ],
 "metadata": {
  "kernelspec": {
   "display_name": "02477_Bayes",
   "language": "python",
   "name": "python3"
  },
  "language_info": {
   "codemirror_mode": {
    "name": "ipython",
    "version": 3
   },
   "file_extension": ".py",
   "mimetype": "text/x-python",
   "name": "python",
   "nbconvert_exporter": "python",
   "pygments_lexer": "ipython3",
   "version": "3.11.11"
  }
 },
 "nbformat": 4,
 "nbformat_minor": 5
}
